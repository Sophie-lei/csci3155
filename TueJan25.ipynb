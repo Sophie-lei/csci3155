{
 "cells": [
  {
   "cell_type": "markdown",
   "id": "15abb2af",
   "metadata": {},
   "source": [
    "NatNum => Zero // there are no arguments to zero\n",
    "\n",
    "NatNum => Succ( NatNum )\n",
    "\n",
    "// An inductive type that is NatNum"
   ]
  },
  {
   "cell_type": "code",
   "execution_count": 4,
   "id": "5e1cde95",
   "metadata": {},
   "outputs": [
    {
     "data": {
      "text/plain": [
       "defined \u001b[32mtrait\u001b[39m \u001b[36mNatNum\u001b[39m\n",
       "defined \u001b[32mclass\u001b[39m \u001b[36mZero\u001b[39m\n",
       "defined \u001b[32mclass\u001b[39m \u001b[36mSucc\u001b[39m"
      ]
     },
     "execution_count": 4,
     "metadata": {},
     "output_type": "execute_result"
    }
   ],
   "source": [
    "sealed trait NatNum\n",
    "case class Zero() extends NatNum // NatNum => Zero\n",
    "case class Succ(n: NatNum) extends NatNum// NatNum => Succ(NatNum)"
   ]
  },
  {
   "cell_type": "code",
   "execution_count": 6,
   "id": "30cd7bc9",
   "metadata": {},
   "outputs": [
    {
     "data": {
      "text/plain": [
       "\u001b[36mz\u001b[39m: \u001b[32mZero\u001b[39m = Zero()\n",
       "\u001b[36mo\u001b[39m: \u001b[32mSucc\u001b[39m = \u001b[33mSucc\u001b[39m(Zero())\n",
       "\u001b[36mtwo\u001b[39m: \u001b[32mSucc\u001b[39m = \u001b[33mSucc\u001b[39m(\u001b[33mSucc\u001b[39m(Zero()))"
      ]
     },
     "execution_count": 6,
     "metadata": {},
     "output_type": "execute_result"
    }
   ],
   "source": [
    "val z = new Zero()\n",
    "val o = Succ(Zero())\n",
    "val two = Succ(Succ(Zero()))"
   ]
  },
  {
   "cell_type": "code",
   "execution_count": 10,
   "id": "a21af0fd",
   "metadata": {},
   "outputs": [
    {
     "data": {
      "text/plain": [
       "defined \u001b[32mclass\u001b[39m \u001b[36mMyClass\u001b[39m"
      ]
     },
     "execution_count": 10,
     "metadata": {},
     "output_type": "execute_result"
    }
   ],
   "source": [
    "case class MyClass(j: Int)"
   ]
  },
  {
   "cell_type": "code",
   "execution_count": 11,
   "id": "d0c87ba9",
   "metadata": {},
   "outputs": [
    {
     "data": {
      "text/plain": [
       "\u001b[36mmc\u001b[39m: \u001b[32mMyClass\u001b[39m = \u001b[33mMyClass\u001b[39m(\u001b[32m10\u001b[39m)"
      ]
     },
     "execution_count": 11,
     "metadata": {},
     "output_type": "execute_result"
    }
   ],
   "source": [
    "val mc = new MyClass(10)"
   ]
  },
  {
   "cell_type": "code",
   "execution_count": 9,
   "id": "1a5ff429",
   "metadata": {},
   "outputs": [
    {
     "data": {
      "text/plain": [
       "\u001b[36mz\u001b[39m: \u001b[32mZero\u001b[39m = Zero()"
      ]
     },
     "execution_count": 9,
     "metadata": {},
     "output_type": "execute_result"
    }
   ],
   "source": [
    "val z = new Zero()"
   ]
  },
  {
   "cell_type": "code",
   "execution_count": null,
   "id": "ef83868e",
   "metadata": {},
   "outputs": [],
   "source": []
  }
 ],
 "metadata": {
  "kernelspec": {
   "display_name": "Scala",
   "language": "scala",
   "name": "scala"
  },
  "language_info": {
   "codemirror_mode": "text/x-scala",
   "file_extension": ".sc",
   "mimetype": "text/x-scala",
   "name": "scala",
   "nbconvert_exporter": "script",
   "version": "2.13.3"
  }
 },
 "nbformat": 4,
 "nbformat_minor": 5
}
