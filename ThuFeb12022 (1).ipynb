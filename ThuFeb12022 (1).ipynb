{
 "cells": [
  {
   "cell_type": "markdown",
   "metadata": {},
   "source": [
    "NumList => EmptyList\n",
    "\n",
    "NumList => Cons(Integer, NumList)"
   ]
  },
  {
   "cell_type": "code",
   "execution_count": 1,
   "metadata": {},
   "outputs": [
    {
     "data": {
      "text/plain": [
       "defined \u001b[32mtrait\u001b[39m \u001b[36mNumList\u001b[39m\n",
       "defined \u001b[32mobject\u001b[39m \u001b[36mEmptyList\u001b[39m\n",
       "defined \u001b[32mclass\u001b[39m \u001b[36mCons\u001b[39m"
      ]
     },
     "execution_count": 1,
     "metadata": {},
     "output_type": "execute_result"
    }
   ],
   "source": [
    "sealed trait NumList\n",
    "case object EmptyList extends NumList // Nil\n",
    "case class Cons(elt: Int, tail: NumList) extends NumList // elt::tail"
   ]
  },
  {
   "cell_type": "code",
   "execution_count": 2,
   "metadata": {},
   "outputs": [
    {
     "data": {
      "text/plain": [
       "defined \u001b[32mfunction\u001b[39m \u001b[36mgetKthElt\u001b[39m"
      ]
     },
     "execution_count": 2,
     "metadata": {},
     "output_type": "execute_result"
    }
   ],
   "source": [
    "// Do not call this function with a negative value of k \n",
    "def getKthElt(lst: NumList, k: Int): Int = lst match {\n",
    "    case EmptyList => throw new IllegalArgumentException(\"Empty List\")\n",
    "    case Cons(elt, tail) => {\n",
    "        if (k == 0){\n",
    "            elt\n",
    "        } else {\n",
    "            getKthElt(tail, k-1)\n",
    "        }\n",
    "    }\n",
    "}"
   ]
  },
  {
   "cell_type": "code",
   "execution_count": 3,
   "metadata": {},
   "outputs": [
    {
     "data": {
      "text/plain": [
       "defined \u001b[32mfunction\u001b[39m \u001b[36mgetKthEltV2\u001b[39m"
      ]
     },
     "execution_count": 3,
     "metadata": {},
     "output_type": "execute_result"
    }
   ],
   "source": [
    "def getKthEltV2(lst: NumList, k: Int): Int = lst match {\n",
    "    case EmptyList => { throw new IllegalArgumentException(\"Empty List\") }\n",
    "    case Cons(elt, _) if (k == 0) => { elt } // _ = wildcard character\n",
    "    case Cons(_, tail) => { getKthEltV2(tail, k-1) }\n",
    "    case _ => throw new IllegalArgumentException(\"Unhandled case\")\n",
    "}"
   ]
  },
  {
   "cell_type": "code",
   "execution_count": 4,
   "metadata": {},
   "outputs": [
    {
     "data": {
      "text/plain": [
       "defined \u001b[32mfunction\u001b[39m \u001b[36msumUpFirstTwoEltsOfList\u001b[39m"
      ]
     },
     "execution_count": 4,
     "metadata": {},
     "output_type": "execute_result"
    }
   ],
   "source": [
    "def sumUpFirstTwoEltsOfList(lst: NumList): Int = lst match {\n",
    "    case EmptyList => { throw new IllegalArgumentException(\"Empty List\") }\n",
    "    case Cons(_, EmptyList) => { throw new IllegalArgumentException(\"List with just one element\") }\n",
    "    case Cons(elt1, Cons(elt2, _)) => {elt1 + elt2}\n",
    "}"
   ]
  },
  {
   "cell_type": "code",
   "execution_count": 6,
   "metadata": {},
   "outputs": [
    {
     "data": {
      "text/plain": [
       "defined \u001b[32mfunction\u001b[39m \u001b[36mlengthOfList\u001b[39m"
      ]
     },
     "execution_count": 6,
     "metadata": {},
     "output_type": "execute_result"
    }
   ],
   "source": [
    "def lengthOfList(lst: List[Int]): Int = lst match {\n",
    "    case Nil => 0\n",
    "    case _::tail => 1 + lengthOfList(tail)\n",
    "}"
   ]
  },
  {
   "cell_type": "code",
   "execution_count": 8,
   "metadata": {},
   "outputs": [
    {
     "data": {
      "text/plain": [
       "defined \u001b[32mfunction\u001b[39m \u001b[36msumUpFirstTwoEltsList\u001b[39m"
      ]
     },
     "execution_count": 8,
     "metadata": {},
     "output_type": "execute_result"
    }
   ],
   "source": [
    "def sumUpFirstTwoEltsList(lst: List[Int]): Int = lst match {\n",
    "    case Nil => throw new IllegalArgumentException(\"Empty List\")\n",
    "    case _::Nil => throw new IllegalArgumentException(\"List with one element\")\n",
    "    case x::y::_ => x + y\n",
    "}\n"
   ]
  },
  {
   "cell_type": "code",
   "execution_count": 11,
   "metadata": {},
   "outputs": [
    {
     "data": {
      "text/plain": [
       "defined \u001b[32mfunction\u001b[39m \u001b[36misAscendingOrder\u001b[39m"
      ]
     },
     "execution_count": 11,
     "metadata": {},
     "output_type": "execute_result"
    }
   ],
   "source": [
    "// Given a list of numbers, check if it is in ascending order.\n",
    "def isAscendingOrder(lst: List[Int]): Boolean = lst match {\n",
    "    case Nil => true\n",
    "    case _::Nil => true\n",
    "    case hd1::(hd2::tail) => { \n",
    "        if (hd1 <= hd2) {\n",
    "            isAscendingOrder(hd2::tail) \n",
    "        } else {\n",
    "            false\n",
    "        }\n",
    "    }\n",
    "    \n",
    "}"
   ]
  },
  {
   "cell_type": "code",
   "execution_count": 10,
   "metadata": {},
   "outputs": [
    {
     "data": {
      "text/plain": [
       "\u001b[36mres9\u001b[39m: \u001b[32mBoolean\u001b[39m = true"
      ]
     },
     "execution_count": 10,
     "metadata": {},
     "output_type": "execute_result"
    }
   ],
   "source": [
    "isAscendingOrder(List(1, 5, 2, 4, 3, 6, 4, 8, -10, 10))"
   ]
  },
  {
   "cell_type": "code",
   "execution_count": 12,
   "metadata": {},
   "outputs": [
    {
     "data": {
      "text/plain": [
       "defined \u001b[32mfunction\u001b[39m \u001b[36misAscendingOrderV2\u001b[39m"
      ]
     },
     "execution_count": 12,
     "metadata": {},
     "output_type": "execute_result"
    }
   ],
   "source": [
    "// Given a list of numbers, check if it is in ascending order.\n",
    "def isAscendingOrderV2(lst: List[Int]): Boolean = lst match {\n",
    "    case Nil => true\n",
    "    case _::Nil => true\n",
    "    case hd1::(hd2::_) if (hd1 > hd2) => false\n",
    "    case _ ::tail => isAscendingOrderV2(tail)\n",
    "}"
   ]
  },
  {
   "cell_type": "code",
   "execution_count": 14,
   "metadata": {},
   "outputs": [
    {
     "data": {
      "text/plain": [
       "defined \u001b[32mfunction\u001b[39m \u001b[36misAscendingOrderV3\u001b[39m"
      ]
     },
     "execution_count": 14,
     "metadata": {},
     "output_type": "execute_result"
    }
   ],
   "source": [
    "// Given a list of numbers, check if it is in ascending order.\n",
    "def isAscendingOrderV3(lst: List[Int]): Boolean = lst match {\n",
    "    case Nil => true\n",
    "    case _::Nil => true\n",
    "    case hd1::(new_tail@(hd2::_)) => { //Tag parts of match\n",
    "        if (hd1 <= hd2) {\n",
    "            isAscendingOrder(new_tail) \n",
    "        } else {\n",
    "            false\n",
    "        }\n",
    "    }\n",
    "    \n",
    "}"
   ]
  },
  {
   "cell_type": "code",
   "execution_count": 18,
   "metadata": {},
   "outputs": [
    {
     "data": {
      "text/plain": [
       "defined \u001b[32mclass\u001b[39m \u001b[36mUnhandledStuff\u001b[39m\n",
       "defined \u001b[32mfunction\u001b[39m \u001b[36msumUpFirstTwoEltsListMistake\u001b[39m"
      ]
     },
     "execution_count": 18,
     "metadata": {},
     "output_type": "execute_result"
    }
   ],
   "source": [
    "class UnhandledStuff() extends Exception\n",
    "def sumUpFirstTwoEltsListMistake(lst: List[Int]): Int = lst match {\n",
    "    case Nil => throw new IllegalArgumentException(\"Empty List\")\n",
    "    case _::Nil => throw new IllegalArgumentException(\"List with one element\")\n",
    "    case x::y::Nil => x + y\n",
    "    case _ => throw new UnhandledStuff()\n",
    "}\n"
   ]
  },
  {
   "cell_type": "code",
   "execution_count": 17,
   "metadata": {},
   "outputs": [
    {
     "ename": "",
     "evalue": "",
     "output_type": "error",
     "traceback": [
      "\u001b[31mscala.MatchError: List(1, 2, 3) (of class scala.collection.immutable.$colon$colon)\u001b[39m\n  ammonite.$sess.cmd15$Helper.sumUpFirstTwoEltsListMistake(\u001b[32mcmd15.sc\u001b[39m:\u001b[32m1\u001b[39m)\n  ammonite.$sess.cmd16$Helper.<init>(\u001b[32mcmd16.sc\u001b[39m:\u001b[32m1\u001b[39m)\n  ammonite.$sess.cmd16$.<clinit>(\u001b[32mcmd16.sc\u001b[39m:\u001b[32m7\u001b[39m)"
     ]
    }
   ],
   "source": [
    "sumUpFirstTwoEltsListMistake(List(1,2, 3))\n"
   ]
  },
  {
   "cell_type": "code",
   "execution_count": 22,
   "metadata": {},
   "outputs": [
    {
     "data": {
      "text/plain": [
       "\u001b[36mlst\u001b[39m: \u001b[32mList\u001b[39m[\u001b[32mInt\u001b[39m] = \u001b[33mList\u001b[39m(\u001b[32m1\u001b[39m, \u001b[32m2\u001b[39m, \u001b[32m3\u001b[39m)"
      ]
     },
     "execution_count": 22,
     "metadata": {},
     "output_type": "execute_result"
    }
   ],
   "source": [
    "val lst = 1::2::3::Nil"
   ]
  },
  {
   "cell_type": "code",
   "execution_count": 23,
   "metadata": {},
   "outputs": [
    {
     "data": {
      "text/plain": [
       "\u001b[36mx\u001b[39m: \u001b[32mInt\u001b[39m = \u001b[32m10\u001b[39m"
      ]
     },
     "execution_count": 23,
     "metadata": {},
     "output_type": "execute_result"
    }
   ],
   "source": [
    "val x = (((1 + 2) + 3) + 4)"
   ]
  },
  {
   "cell_type": "code",
   "execution_count": null,
   "metadata": {},
   "outputs": [],
   "source": []
  }
 ],
 "metadata": {
  "kernelspec": {
   "display_name": "Scala",
   "language": "scala",
   "name": "scala"
  },
  "language_info": {
   "codemirror_mode": "text/x-scala",
   "file_extension": ".scala",
   "mimetype": "text/x-scala",
   "name": "scala",
   "nbconvert_exporter": "script",
   "version": "2.12.11"
  }
 },
 "nbformat": 4,
 "nbformat_minor": 5
}
