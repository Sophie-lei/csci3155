{
 "cells": [
  {
   "cell_type": "markdown",
   "metadata": {},
   "source": [
    "## Topics for Today\n",
    "\n",
    " - Grammars and Inductive datatypes in Scala.\n",
    " - Case pattern matching.\n",
    " - Examples, examples and examples.\n",
    "\n"
   ]
  },
  {
   "cell_type": "markdown",
   "metadata": {},
   "source": [
    "__NumList__ => EmptyList\n",
    "\n",
    "__NumList__ => Cons(__Integer__, __NumList__)\n",
    "\n",
    "__Integer__ => ..., -3, -2, -1, 0, 1, 2, 3..."
   ]
  },
  {
   "cell_type": "code",
   "execution_count": 1,
   "metadata": {},
   "outputs": [
    {
     "data": {
      "text/plain": [
       "defined \u001b[32mtrait\u001b[39m \u001b[36mNumList\u001b[39m\n",
       "defined \u001b[32mclass\u001b[39m \u001b[36mEmptyList\u001b[39m\n",
       "defined \u001b[32mclass\u001b[39m \u001b[36mCons\u001b[39m"
      ]
     },
     "execution_count": 1,
     "metadata": {},
     "output_type": "execute_result"
    }
   ],
   "source": [
    "sealed trait NumList\n",
    "case class EmptyList() extends NumList //NumList => EmptyList\n",
    "case class Cons(elt: Int, tail: NumList) extends NumList "
   ]
  },
  {
   "cell_type": "code",
   "execution_count": 2,
   "metadata": {},
   "outputs": [
    {
     "data": {
      "text/plain": [
       "defined \u001b[32mclass\u001b[39m \u001b[36mHello\u001b[39m"
      ]
     },
     "execution_count": 2,
     "metadata": {},
     "output_type": "execute_result"
    }
   ],
   "source": [
    "class Hello(x: Int, str: String)\n"
   ]
  },
  {
   "cell_type": "code",
   "execution_count": 3,
   "metadata": {},
   "outputs": [
    {
     "data": {
      "text/plain": [
       "defined \u001b[32mclass\u001b[39m \u001b[36mHelloCase\u001b[39m"
      ]
     },
     "execution_count": 3,
     "metadata": {},
     "output_type": "execute_result"
    }
   ],
   "source": [
    "case class HelloCase(x: Int, str: String)"
   ]
  },
  {
   "cell_type": "code",
   "execution_count": 4,
   "metadata": {},
   "outputs": [
    {
     "data": {
      "text/plain": [
       "\u001b[36mhc\u001b[39m: \u001b[32mHelloCase\u001b[39m = \u001b[33mHelloCase\u001b[39m(\u001b[32m10\u001b[39m, \u001b[32m\"what?\"\u001b[39m)"
      ]
     },
     "execution_count": 4,
     "metadata": {},
     "output_type": "execute_result"
    }
   ],
   "source": [
    "val hc = HelloCase(10, \"what?\")"
   ]
  },
  {
   "cell_type": "code",
   "execution_count": 5,
   "metadata": {},
   "outputs": [
    {
     "data": {
      "text/plain": [
       "\u001b[36mhc2\u001b[39m: \u001b[32mHelloCase\u001b[39m = \u001b[33mHelloCase\u001b[39m(\u001b[32m10\u001b[39m, \u001b[32m\"what?\"\u001b[39m)"
      ]
     },
     "execution_count": 5,
     "metadata": {},
     "output_type": "execute_result"
    }
   ],
   "source": [
    "val hc2 = HelloCase(10, \"what?\")"
   ]
  },
  {
   "cell_type": "code",
   "execution_count": 6,
   "metadata": {},
   "outputs": [
    {
     "data": {
      "text/plain": [
       "\u001b[36ma\u001b[39m: \u001b[32mInt\u001b[39m = \u001b[32m10\u001b[39m\n",
       "\u001b[36mb\u001b[39m: \u001b[32mString\u001b[39m = \u001b[32m\"what?\"\u001b[39m"
      ]
     },
     "execution_count": 6,
     "metadata": {},
     "output_type": "execute_result"
    }
   ],
   "source": [
    "val HelloCase(a, b) = hc //unpacking\n"
   ]
  },
  {
   "cell_type": "code",
   "execution_count": 7,
   "metadata": {},
   "outputs": [
    {
     "data": {
      "text/plain": [
       "\u001b[36mh\u001b[39m: \u001b[32mHello\u001b[39m = ammonite.$sess.cmd1$Helper$Hello@6507d211"
      ]
     },
     "execution_count": 7,
     "metadata": {},
     "output_type": "execute_result"
    }
   ],
   "source": [
    "val h = new Hello(10, \"what?\")"
   ]
  },
  {
   "cell_type": "code",
   "execution_count": 8,
   "metadata": {},
   "outputs": [
    {
     "data": {
      "text/plain": [
       "\u001b[36mh2\u001b[39m: \u001b[32mHello\u001b[39m = ammonite.$sess.cmd1$Helper$Hello@d63e0cd"
      ]
     },
     "execution_count": 8,
     "metadata": {},
     "output_type": "execute_result"
    }
   ],
   "source": [
    "val h2 = new Hello(10, \"what?\")"
   ]
  },
  {
   "cell_type": "code",
   "execution_count": 9,
   "metadata": {},
   "outputs": [
    {
     "data": {
      "text/plain": [
       "\u001b[36mres8\u001b[39m: \u001b[32mBoolean\u001b[39m = false"
      ]
     },
     "execution_count": 9,
     "metadata": {},
     "output_type": "execute_result"
    }
   ],
   "source": [
    "h == h2"
   ]
  },
  {
   "cell_type": "code",
   "execution_count": 9,
   "metadata": {},
   "outputs": [
    {
     "name": "stderr",
     "output_type": "stream",
     "text": [
      "cmd9.sc:1: not found: value Hello\n",
      "val Hello(a, b) = h //unapply\n",
      "    ^Compilation Failed"
     ]
    },
    {
     "ename": "",
     "evalue": "",
     "output_type": "error",
     "traceback": [
      "Compilation Failed"
     ]
    }
   ],
   "source": [
    "val Hello(a, b) = h //unapply"
   ]
  },
  {
   "cell_type": "code",
   "execution_count": 10,
   "metadata": {},
   "outputs": [
    {
     "data": {
      "text/plain": [
       "defined \u001b[32mtrait\u001b[39m \u001b[36mNumList\u001b[39m\n",
       "defined \u001b[32mobject\u001b[39m \u001b[36mEmptyList\u001b[39m\n",
       "defined \u001b[32mclass\u001b[39m \u001b[36mCons\u001b[39m"
      ]
     },
     "execution_count": 10,
     "metadata": {},
     "output_type": "execute_result"
    }
   ],
   "source": [
    "sealed trait NumList\n",
    "case object EmptyList extends NumList //NumList => EmptyList\n",
    "case class Cons(elt: Int, tail: NumList) extends NumList"
   ]
  },
  {
   "cell_type": "code",
   "execution_count": 10,
   "metadata": {},
   "outputs": [
    {
     "name": "stderr",
     "output_type": "stream",
     "text": [
      "cmd10.sc:1: cmd10.this.cmd9.EmptyList.type does not take parameters\n",
      "val lst1 = Cons(1, Cons(2, Cons(-1, Cons(-2, EmptyList() ))))\n",
      "                                                      ^cmd10.sc:2: cmd10.this.cmd9.EmptyList.type does not take parameters\n",
      "val elist = EmptyList()\n",
      "                     ^Compilation Failed"
     ]
    },
    {
     "ename": "",
     "evalue": "",
     "output_type": "error",
     "traceback": [
      "Compilation Failed"
     ]
    }
   ],
   "source": [
    "// [1, 2, -1, -2]\n",
    "val lst1 = Cons(1, Cons(2, Cons(-1, Cons(-2, EmptyList() ))))\n",
    "val elist = EmptyList()"
   ]
  },
  {
   "cell_type": "code",
   "execution_count": 11,
   "metadata": {},
   "outputs": [
    {
     "data": {
      "text/plain": [
       "defined \u001b[32mobject\u001b[39m \u001b[36mMyStuff\u001b[39m"
      ]
     },
     "execution_count": 11,
     "metadata": {},
     "output_type": "execute_result"
    }
   ],
   "source": [
    "object MyStuff {\n",
    "    def myFunction(x: Int): Int = { x + 1}\n",
    "    var myValue : String = \"Hello\"\n",
    "}"
   ]
  },
  {
   "cell_type": "code",
   "execution_count": 12,
   "metadata": {},
   "outputs": [
    {
     "data": {
      "text/plain": [
       "\u001b[36mres11\u001b[39m: \u001b[32mString\u001b[39m = \u001b[32m\"Hello\"\u001b[39m"
      ]
     },
     "execution_count": 12,
     "metadata": {},
     "output_type": "execute_result"
    }
   ],
   "source": [
    "MyStuff.myValue"
   ]
  },
  {
   "cell_type": "code",
   "execution_count": 13,
   "metadata": {},
   "outputs": [
    {
     "data": {
      "text/plain": [
       "\u001b[36mres12\u001b[39m: \u001b[32mInt\u001b[39m = \u001b[32m11\u001b[39m"
      ]
     },
     "execution_count": 13,
     "metadata": {},
     "output_type": "execute_result"
    }
   ],
   "source": [
    "MyStuff.myFunction(10)"
   ]
  },
  {
   "cell_type": "code",
   "execution_count": 31,
   "metadata": {},
   "outputs": [
    {
     "data": {
      "text/plain": [
       "defined \u001b[32mclass\u001b[39m \u001b[36mNumList\u001b[39m\n",
       "defined \u001b[32mobject\u001b[39m \u001b[36mEmptyList\u001b[39m\n",
       "defined \u001b[32mclass\u001b[39m \u001b[36mCons\u001b[39m"
      ]
     },
     "execution_count": 31,
     "metadata": {},
     "output_type": "execute_result"
    }
   ],
   "source": [
    "abstract class NumList\n",
    "case object EmptyList extends NumList //NumList => EmptyList\n",
    "case class Cons(elt: Int, tail: NumList) extends NumList"
   ]
  },
  {
   "cell_type": "code",
   "execution_count": 15,
   "metadata": {},
   "outputs": [
    {
     "data": {
      "text/plain": [
       "\u001b[36mlst1\u001b[39m: \u001b[32mCons\u001b[39m = \u001b[33mCons\u001b[39m(\u001b[32m1\u001b[39m, \u001b[33mCons\u001b[39m(\u001b[32m2\u001b[39m, \u001b[33mCons\u001b[39m(\u001b[32m-1\u001b[39m, \u001b[33mCons\u001b[39m(\u001b[32m-2\u001b[39m, EmptyList))))\n",
       "\u001b[36melist\u001b[39m: \u001b[32mEmptyList\u001b[39m.type = EmptyList"
      ]
     },
     "execution_count": 15,
     "metadata": {},
     "output_type": "execute_result"
    }
   ],
   "source": [
    "val lst1 = Cons(1, Cons(2, Cons(-1, Cons(-2, EmptyList ))))\n",
    "val elist = EmptyList"
   ]
  },
  {
   "cell_type": "markdown",
   "metadata": {},
   "source": [
    "## Trees\n",
    "\n",
    "__NumTree__ => Leaf(__Integer__)\n",
    "\n",
    "__NumTree__ => Node(__NumTree__, __NumTree__, __Integer__)"
   ]
  },
  {
   "cell_type": "code",
   "execution_count": 16,
   "metadata": {},
   "outputs": [
    {
     "data": {
      "text/plain": [
       "defined \u001b[32mtrait\u001b[39m \u001b[36mNumTree\u001b[39m\n",
       "defined \u001b[32mclass\u001b[39m \u001b[36mLeaf\u001b[39m\n",
       "defined \u001b[32mclass\u001b[39m \u001b[36mNode\u001b[39m"
      ]
     },
     "execution_count": 16,
     "metadata": {},
     "output_type": "execute_result"
    }
   ],
   "source": [
    "sealed trait NumTree\n",
    "case class Leaf(key :Int) extends NumTree\n",
    "case class Node(left: NumTree, right: NumTree, key: Int) extends NumTree"
   ]
  },
  {
   "cell_type": "code",
   "execution_count": 17,
   "metadata": {},
   "outputs": [
    {
     "data": {
      "text/plain": [
       "\u001b[36mlonely_leaf\u001b[39m: \u001b[32mNumTree\u001b[39m = \u001b[33mLeaf\u001b[39m(\u001b[32m10\u001b[39m)"
      ]
     },
     "execution_count": 17,
     "metadata": {},
     "output_type": "execute_result"
    }
   ],
   "source": [
    "val lonely_leaf: NumTree = Leaf(10)"
   ]
  },
  {
   "cell_type": "code",
   "execution_count": 18,
   "metadata": {},
   "outputs": [
    {
     "data": {
      "text/plain": [
       "\u001b[36mnt1\u001b[39m: \u001b[32mNumTree\u001b[39m = \u001b[33mNode\u001b[39m(\u001b[33mLeaf\u001b[39m(\u001b[32m10\u001b[39m), \u001b[33mLeaf\u001b[39m(\u001b[32m-10\u001b[39m), \u001b[32m1\u001b[39m)"
      ]
     },
     "execution_count": 18,
     "metadata": {},
     "output_type": "execute_result"
    }
   ],
   "source": [
    "val nt1 : NumTree = Node (lonely_leaf, Leaf(-10), 1)"
   ]
  },
  {
   "cell_type": "code",
   "execution_count": 19,
   "metadata": {},
   "outputs": [
    {
     "data": {
      "text/plain": [
       "defined \u001b[32mtrait\u001b[39m \u001b[36mNumList\u001b[39m\n",
       "defined \u001b[32mobject\u001b[39m \u001b[36mEmptyList\u001b[39m\n",
       "defined \u001b[32mclass\u001b[39m \u001b[36mCons\u001b[39m"
      ]
     },
     "execution_count": 19,
     "metadata": {},
     "output_type": "execute_result"
    }
   ],
   "source": [
    "sealed trait NumList\n",
    "case object EmptyList extends NumList //NumList => EmptyList\n",
    "case class Cons(elt: Int, tail: NumList) extends NumList\n"
   ]
  },
  {
   "cell_type": "code",
   "execution_count": 28,
   "metadata": {},
   "outputs": [
    {
     "data": {
      "text/plain": [
       "\u001b[36mlst1\u001b[39m: \u001b[32mNumList\u001b[39m = \u001b[33mCons\u001b[39m(\u001b[32m1\u001b[39m, \u001b[33mCons\u001b[39m(\u001b[32m-1\u001b[39m, EmptyList))"
      ]
     },
     "execution_count": 28,
     "metadata": {},
     "output_type": "execute_result"
    }
   ],
   "source": [
    "val lst1 : NumList = Cons(1, Cons(-1, EmptyList))"
   ]
  },
  {
   "cell_type": "code",
   "execution_count": 21,
   "metadata": {},
   "outputs": [
    {
     "data": {
      "text/plain": [
       "\u001b[36mlst2\u001b[39m: \u001b[32mEmptyList\u001b[39m.type = EmptyList"
      ]
     },
     "execution_count": 21,
     "metadata": {},
     "output_type": "execute_result"
    }
   ],
   "source": [
    "val lst2 = EmptyList"
   ]
  },
  {
   "cell_type": "code",
   "execution_count": 22,
   "metadata": {},
   "outputs": [
    {
     "data": {
      "text/plain": [
       "\u001b[36mlst3\u001b[39m: \u001b[32mCons\u001b[39m = \u001b[33mCons\u001b[39m(\u001b[32m-2\u001b[39m, \u001b[33mCons\u001b[39m(\u001b[32m-1\u001b[39m, \u001b[33mCons\u001b[39m(\u001b[32m0\u001b[39m, \u001b[33mCons\u001b[39m(\u001b[32m1\u001b[39m, EmptyList))))"
      ]
     },
     "execution_count": 22,
     "metadata": {},
     "output_type": "execute_result"
    }
   ],
   "source": [
    "val lst3 = Cons(-2, Cons(-1, Cons(0, Cons(1, EmptyList))))"
   ]
  },
  {
   "cell_type": "code",
   "execution_count": 23,
   "metadata": {},
   "outputs": [
    {
     "data": {
      "text/plain": [
       "defined \u001b[32mfunction\u001b[39m \u001b[36mhead\u001b[39m"
      ]
     },
     "execution_count": 23,
     "metadata": {},
     "output_type": "execute_result"
    }
   ],
   "source": [
    "def head(lst: NumList): Int = lst match {\n",
    "    case EmptyList => throw new IllegalArgumentException(\"How dare you?\")\n",
    "    case Cons(hd, tail) => {\n",
    "        //hd as first element of the list\n",
    "        //tail as remainder\n",
    "        println(s\"hd = $hd, tail = $tail\")\n",
    "        hd\n",
    "    }\n",
    "    case _ => throw new IllegalArgumentException(\"Unhandled Case.\")\n",
    "}\n"
   ]
  },
  {
   "cell_type": "code",
   "execution_count": 24,
   "metadata": {},
   "outputs": [
    {
     "name": "stdout",
     "output_type": "stream",
     "text": [
      "Cons(1,Cons(-1,EmptyList))\n",
      "hd = 1, tail = Cons(-1,EmptyList)\n"
     ]
    },
    {
     "data": {
      "text/plain": [
       "\u001b[36mres23_1\u001b[39m: \u001b[32mInt\u001b[39m = \u001b[32m1\u001b[39m"
      ]
     },
     "execution_count": 24,
     "metadata": {},
     "output_type": "execute_result"
    }
   ],
   "source": [
    "println(lst)\n",
    "head(lst)"
   ]
  },
  {
   "cell_type": "code",
   "execution_count": 25,
   "metadata": {},
   "outputs": [
    {
     "ename": "",
     "evalue": "",
     "output_type": "error",
     "traceback": [
      "\u001b[31mjava.lang.IllegalArgumentException: How dare you?\u001b[39m\n  ammonite.$sess.cmd22$Helper.head(\u001b[32mcmd22.sc\u001b[39m:\u001b[32m2\u001b[39m)\n  ammonite.$sess.cmd24$Helper.<init>(\u001b[32mcmd24.sc\u001b[39m:\u001b[32m1\u001b[39m)\n  ammonite.$sess.cmd24$.<clinit>(\u001b[32mcmd24.sc\u001b[39m:\u001b[32m7\u001b[39m)"
     ]
    }
   ],
   "source": [
    "head(lst2)"
   ]
  },
  {
   "cell_type": "code",
   "execution_count": 26,
   "metadata": {},
   "outputs": [
    {
     "name": "stdout",
     "output_type": "stream",
     "text": [
      "hd = -2, tail = Cons(-1,Cons(0,Cons(1,EmptyList)))\n"
     ]
    },
    {
     "data": {
      "text/plain": [
       "\u001b[36mres25\u001b[39m: \u001b[32mInt\u001b[39m = \u001b[32m-2\u001b[39m"
      ]
     },
     "execution_count": 26,
     "metadata": {},
     "output_type": "execute_result"
    }
   ],
   "source": [
    "head(lst3)"
   ]
  },
  {
   "cell_type": "code",
   "execution_count": 27,
   "metadata": {},
   "outputs": [
    {
     "data": {
      "text/plain": [
       "defined \u001b[32mfunction\u001b[39m \u001b[36mlength\u001b[39m"
      ]
     },
     "execution_count": 27,
     "metadata": {},
     "output_type": "execute_result"
    }
   ],
   "source": [
    "def length(lst: NumList, acc:Int = 0): Int = lst match {\n",
    "   case EmptyList => acc\n",
    "   case Cons(hd, tail) => {\n",
    "       length(tail, acc + 1)\n",
    "   }\n",
    "}"
   ]
  },
  {
   "cell_type": "code",
   "execution_count": 30,
   "metadata": {},
   "outputs": [
    {
     "data": {
      "text/plain": [
       "\u001b[36mlst2\u001b[39m: \u001b[32mEmptyList\u001b[39m.type = EmptyList\n",
       "\u001b[36mres29_1\u001b[39m: \u001b[32mInt\u001b[39m = \u001b[32m0\u001b[39m"
      ]
     },
     "execution_count": 30,
     "metadata": {},
     "output_type": "execute_result"
    }
   ],
   "source": [
    "val lst2= EmptyList\n",
    "length(lst2)"
   ]
  },
  {
   "cell_type": "code",
   "execution_count": null,
   "metadata": {},
   "outputs": [],
   "source": [
    "def kthElement(lst: NumList, k: Int) = lst match {\n",
    "    case EmptyList => throw new IllegalArgumentException(\"Blah\")\n",
    "    case Cons(hd, tail) => {\n",
    "        if (k == 0) { hd }\n",
    "        else {\n",
    "            kthElement(tail, k-1 )\n",
    "        }\n",
    "    }\n",
    "    \n",
    "}"
   ]
  }
 ],
 "metadata": {
  "kernelspec": {
   "display_name": "Scala",
   "language": "scala",
   "name": "scala"
  },
  "language_info": {
   "codemirror_mode": "text/x-scala",
   "file_extension": ".scala",
   "mimetype": "text/x-scala",
   "name": "scala",
   "nbconvert_exporter": "script",
   "version": "2.12.11"
  }
 },
 "nbformat": 4,
 "nbformat_minor": 5
}
